{
 "cells": [
  {
   "cell_type": "markdown",
   "metadata": {},
   "source": [
    "## List Exercises\n",
    "\n",
    "For all of these exercises you will need either\n",
    "\n",
    "1) A list of numbers: ```numList = [1,5,6,2,3,4,5] ```\n",
    "\n",
    "2) A list of strings: ``` wordList = [\"apple\", \"banana\", \"grape\", \"cinnamon\", \"apple\", \"eggplant\", \"falafel\", \"grape\", \"grape\"] ```\n",
    "\n",
    "**They have been defined for you in the first code cell below**\n",
    "\n",
    "### Instructions: \n",
    "\n",
    "1) Complete the functions to work as decribed.\n",
    "\n",
    "2) Test your functions with the ASSERTS at the end of this notebook\n",
    "\n",
    "3) Push your code back to your github account\n",
    "\n",
    "4) Generate a pull request to the Ada NCDS github account"
   ]
  },
  {
   "cell_type": "code",
   "execution_count": 9,
   "metadata": {},
   "outputs": [
    {
     "name": "stdout",
     "output_type": "stream",
     "text": [
      "[1, 5, 6, 2, 3, 4, 5]\n",
      "['apple', 'banana', 'grape', 'cinnamon', 'apple', 'eggplant', 'falafel', 'grape', 'grape']\n"
     ]
    }
   ],
   "source": [
    "numList = [1,5,6,2,3,4,5]\n",
    "print(numList)\n",
    "wordList = [\"apple\", \"banana\", \"grape\", \"cinnamon\", \"apple\", \"eggplant\", \"falafel\", \"grape\", \"grape\"]\n",
    "print(wordList)"
   ]
  },
  {
   "cell_type": "markdown",
   "metadata": {},
   "source": [
    "## Ex1: powerList"
   ]
  },
  {
   "cell_type": "code",
   "execution_count": 2,
   "metadata": {},
   "outputs": [],
   "source": [
    "#this function takes a list of numbers and then raises each number to the required power and returns the \"powered\" List\n",
    "# eg powerList([1,2,3], 2) -> [1,4,9]\n",
    "def powerList(list, power):\n",
    "    newList=[number**power for number in list]\n",
    "    \n",
    "    #write your code here\n",
    "    \n",
    "    return newList\n",
    "    "
   ]
  },
  {
   "cell_type": "code",
   "execution_count": 3,
   "metadata": {},
   "outputs": [
    {
     "name": "stdout",
     "output_type": "stream",
     "text": [
      "[1, 4, 9]\n",
      "[27, 64, 125]\n"
     ]
    }
   ],
   "source": [
    "#testing the powerList function\n",
    "answer = powerList([1,2,3], 2)\n",
    "print(answer)\n",
    "answer = powerList([3,4,5], 3)\n",
    "print(answer)"
   ]
  },
  {
   "cell_type": "markdown",
   "metadata": {},
   "source": [
    "## Ex 2: listFindReplace"
   ]
  },
  {
   "cell_type": "code",
   "execution_count": 11,
   "metadata": {},
   "outputs": [],
   "source": [
    "#This function finds all the string elements in a list matching \"find\" and replaces them with the string \"replace\"\n",
    "\n",
    "def listFindReplace(aList, findWord, replaceWord):\n",
    "    newList = [word.replace(findWord,replaceWord) for word in aList] # a new empty list\n",
    "     #write your code here\n",
    "        \n",
    "    #finally return the new list    \n",
    "    return newList"
   ]
  },
  {
   "cell_type": "code",
   "execution_count": 12,
   "metadata": {},
   "outputs": [
    {
     "name": "stdout",
     "output_type": "stream",
     "text": [
      "['apple', 'banana', 'ada', 'cinnamon', 'apple', 'eggplant', 'falafel', 'ada', 'ada']\n"
     ]
    }
   ],
   "source": [
    "#test your code here\n",
    "newList =listFindReplace(wordList, \"grape\", \"ada\")\n",
    "print(newList)\n",
    "newList = listFindReplace([\"hello\", \"hello\", \"hello\"], \"hello\", \"world\")"
   ]
  },
  {
   "cell_type": "markdown",
   "metadata": {},
   "source": [
    "## Automated testing\n",
    "\n",
    "Run this code last to automatically test your functions before you push back to your repo and generate the pull request"
   ]
  },
  {
   "cell_type": "code",
   "execution_count": 4,
   "metadata": {},
   "outputs": [],
   "source": [
    "assert  powerList([1,2,3], 2) == [1,4,9], \"ERROR powerList\""
   ]
  },
  {
   "cell_type": "code",
   "execution_count": 5,
   "metadata": {},
   "outputs": [],
   "source": [
    "assert  powerList([3,4,5], 3) == [27,64,125], \"ERROR powerList\""
   ]
  },
  {
   "cell_type": "code",
   "execution_count": 15,
   "metadata": {},
   "outputs": [],
   "source": [
    "assert listFindReplace([\"hello\", \"hello\", \"hello\"], \"hello\", \"world\") == [\"world\", \"world\", \"world\"], \"ERROR: findReplace\""
   ]
  },
  {
   "cell_type": "code",
   "execution_count": null,
   "metadata": {},
   "outputs": [],
   "source": []
  }
 ],
 "metadata": {
  "kernelspec": {
   "display_name": "Python 3",
   "language": "python",
   "name": "python3"
  },
  "language_info": {
   "codemirror_mode": {
    "name": "ipython",
    "version": 3
   },
   "file_extension": ".py",
   "mimetype": "text/x-python",
   "name": "python",
   "nbconvert_exporter": "python",
   "pygments_lexer": "ipython3",
   "version": "3.5.2"
  }
 },
 "nbformat": 4,
 "nbformat_minor": 2
}
