{
 "cells": [
  {
   "cell_type": "markdown",
   "metadata": {},
   "source": [
    "## List Exercises\n",
    "\n",
    "### Instructions: \n",
    "\n",
    "1] Complete the functions to work as decribed.\n",
    "\n",
    "2] Test your functions with the ASSERTS at the end of this notebook\n",
    "\n",
    "3] Push your code back to your github account\n",
    "\n",
    "4] Generate a pull request to the Ada NCDS github account"
   ]
  },
  {
   "cell_type": "markdown",
   "metadata": {},
   "source": [
    "### EXERCISE [1] | power_array"
   ]
  },
  {
   "cell_type": "code",
   "execution_count": 2,
   "metadata": {
    "collapsed": true
   },
   "outputs": [
    {
     "data": {
      "text/plain": [
       "[1, 4, 9]"
      ]
     },
     "execution_count": 2,
     "metadata": {},
     "output_type": "execute_result"
    }
   ],
   "source": [
    "def power_array(list, power):\n",
    "    array = []\n",
    "    for element in list:\n",
    "        array.append(element ** power)\n",
    "    return array\n",
    "\n",
    "power_array([1, 2, 3], 2)"
   ]
  },
  {
   "cell_type": "markdown",
   "metadata": {},
   "source": [
    "### EXERCISE 2: find_n_replace"
   ]
  },
  {
   "cell_type": "code",
   "execution_count": 3,
   "metadata": {
    "collapsed": true
   },
   "outputs": [
    {
     "data": {
      "text/plain": [
       "['world', 'world', 'world']"
      ]
     },
     "execution_count": 3,
     "metadata": {},
     "output_type": "execute_result"
    }
   ],
   "source": [
    "def find_n_replace(list, find, replace):\n",
    "    array = []\n",
    "    for element in list:\n",
    "        if (element == find):\n",
    "            array.append(replace)\n",
    "        else:\n",
    "            array.append(element)\n",
    "    return array\n",
    "\n",
    "words = [\"hello\", \"hello\", \"hello\"]\n",
    "\n",
    "find_n_replace(words, \"hello\", \"world\")"
   ]
  },
  {
   "cell_type": "markdown",
   "metadata": {},
   "source": [
    "## Debugging"
   ]
  },
  {
   "cell_type": "code",
   "execution_count": 5,
   "metadata": {},
   "outputs": [],
   "source": [
    "assert power_array([1, 2, 3], 2) == [1, 4, 9], \"ERROR power_array\""
   ]
  },
  {
   "cell_type": "code",
   "execution_count": 6,
   "metadata": {},
   "outputs": [],
   "source": [
    "assert find_n_replace([\"hello\", \"hello\", \"hello\"], \"hello\", \"world\") == [\"world\", \"world\", \"world\"], \"ERROR: find_n_replace\""
   ]
  }
 ],
 "metadata": {
  "kernelspec": {
   "display_name": "Python 3",
   "language": "python",
   "name": "python3"
  },
  "language_info": {
   "codemirror_mode": {
    "name": "ipython",
    "version": 3
   },
   "file_extension": ".py",
   "mimetype": "text/x-python",
   "name": "python",
   "nbconvert_exporter": "python",
   "pygments_lexer": "ipython3",
   "version": "3.7.1"
  }
 },
 "nbformat": 4,
 "nbformat_minor": 2
}
