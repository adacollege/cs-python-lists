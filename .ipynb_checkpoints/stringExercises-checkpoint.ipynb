{
 "cells": [
  {
   "cell_type": "markdown",
   "metadata": {},
   "source": [
    "## Functions that Manipulate Strings \n",
    "\n",
    "### Instructions: \n",
    "\n",
    "1) Complete the functions to work as decribed.\n",
    "\n",
    "2) Test your functions with the ASSERTS at the end of this notebook\n",
    "\n",
    "3) Push your code back to your github account\n",
    "\n",
    "4) Generate a pull request to the Ada NCDS github account"
   ]
  },
  {
   "cell_type": "markdown",
   "metadata": {},
   "source": [
    "## Ex1: Function reverseWord"
   ]
  },
  {
   "cell_type": "code",
   "execution_count": 4,
   "metadata": {},
   "outputs": [],
   "source": [
    "#this function takes a string as a parameter and returns \n",
    "def reverseWord(word):\n",
    "    #add your code here\n",
    "    word = word[::-1]\n",
    "    return word"
   ]
  },
  {
   "cell_type": "code",
   "execution_count": 5,
   "metadata": {},
   "outputs": [
    {
     "name": "stdout",
     "output_type": "stream",
     "text": [
      "olleh\n"
     ]
    }
   ],
   "source": [
    "#this code tests the reverse word function\n",
    "answer = reverseWord(\"hello\")\n",
    "print(answer)"
   ]
  },
  {
   "cell_type": "markdown",
   "metadata": {},
   "source": [
    "## Ex2: Function countChars"
   ]
  },
  {
   "cell_type": "code",
   "execution_count": 6,
   "metadata": {},
   "outputs": [],
   "source": [
    "#this function returns the number of characters in a string\n",
    "def countChars(word):\n",
    "    #add your code here\n",
    "    \n",
    "    return len(word)"
   ]
  },
  {
   "cell_type": "code",
   "execution_count": 7,
   "metadata": {},
   "outputs": [
    {
     "name": "stdout",
     "output_type": "stream",
     "text": [
      "19\n"
     ]
    }
   ],
   "source": [
    "#this code tests the count chars code\n",
    "x=countChars(\"supercalifagilistic\")\n",
    "print(x)"
   ]
  },
  {
   "cell_type": "markdown",
   "metadata": {},
   "source": [
    "## Ex3 : findReplace"
   ]
  },
  {
   "cell_type": "code",
   "execution_count": 10,
   "metadata": {},
   "outputs": [],
   "source": [
    "#This function finds all the characters in word matching \"find\" and replaces them with the character \"replace\"\n",
    "# for example: findReplace(\"hello world\", \"o\", \"*\") -> \"hell* w*rld\"\n",
    "#  or: findReplace(\"hello world\", \"a\", \"b\") -> \"hello world\" since no \"a\" was found in the string word\n",
    "def findReplace(word, find, replace):\n",
    "    while find in word:\n",
    "        word = word.replace(find,replace)\n",
    "    newWord = word\n",
    "    return newWord"
   ]
  },
  {
   "cell_type": "code",
   "execution_count": 11,
   "metadata": {},
   "outputs": [
    {
     "name": "stdout",
     "output_type": "stream",
     "text": [
      "hell* w*rld\n",
      "hello world\n"
     ]
    }
   ],
   "source": [
    "#testing the findReplace function\n",
    "new=findReplace(\"hello world\", \"o\", \"*\")\n",
    "print(new)\n",
    "new = findReplace(\"hello world\", \"a\", \"b\")\n",
    "print(new)"
   ]
  },
  {
   "cell_type": "markdown",
   "metadata": {},
   "source": [
    "## Ex4: countThisChars"
   ]
  },
  {
   "cell_type": "code",
   "execution_count": 12,
   "metadata": {},
   "outputs": [],
   "source": [
    "# This function counts the specific characters in a string\n",
    "# eg countThisChar(\"ada college\", \"l\") -> 2\n",
    "# eg countThisChar(\"ada college\", \"b\") -> 0\n",
    "def countThisChar(word, char):\n",
    "    \n",
    "    return word.count(char)"
   ]
  },
  {
   "cell_type": "code",
   "execution_count": 13,
   "metadata": {},
   "outputs": [
    {
     "name": "stdout",
     "output_type": "stream",
     "text": [
      "2\n",
      "0\n"
     ]
    }
   ],
   "source": [
    "#testing countThisChars\n",
    "x=countThisChar(\"ada college\", \"l\")\n",
    "print(x)\n",
    "x=countThisChar(\"ada college\", \"b\")\n",
    "print(x)"
   ]
  },
  {
   "cell_type": "markdown",
   "metadata": {},
   "source": [
    "#### Automatic tests for all the functions. \n",
    "\n",
    "Run these last - hopefully with no assertion errors!"
   ]
  },
  {
   "cell_type": "code",
   "execution_count": 14,
   "metadata": {},
   "outputs": [],
   "source": [
    "assert reverseWord(\"fred\") == \"derf\", \"ERROR: reverseWord\"\n"
   ]
  },
  {
   "cell_type": "code",
   "execution_count": 15,
   "metadata": {},
   "outputs": [],
   "source": [
    "assert countChars(\"hello\") == 5, \"ERROR: countChars\"\n"
   ]
  },
  {
   "cell_type": "code",
   "execution_count": 16,
   "metadata": {},
   "outputs": [],
   "source": [
    "assert findReplace(\"hello world\", \"o\", \"*\") == \"hell* w*rld\",  \"ERROR: findReplace\"\n"
   ]
  },
  {
   "cell_type": "code",
   "execution_count": 17,
   "metadata": {},
   "outputs": [],
   "source": [
    "assert findReplace(\"hello world\", \"a\", \"*\") == \"hello world\",  \"ERROR: findReplace\"\n"
   ]
  },
  {
   "cell_type": "code",
   "execution_count": 18,
   "metadata": {},
   "outputs": [],
   "source": [
    "assert countThisChar(\"ada college\", \"l\") == 2, \"ERROR: countThisChar\"\n"
   ]
  },
  {
   "cell_type": "code",
   "execution_count": 19,
   "metadata": {},
   "outputs": [],
   "source": [
    "assert countThisChar(\"ada college\", \"b\") == 0, \"ERROR: countThisChar\""
   ]
  },
  {
   "cell_type": "code",
   "execution_count": null,
   "metadata": {},
   "outputs": [],
   "source": []
  }
 ],
 "metadata": {
  "kernelspec": {
   "display_name": "Python 3",
   "language": "python",
   "name": "python3"
  },
  "language_info": {
   "codemirror_mode": {
    "name": "ipython",
    "version": 3
   },
   "file_extension": ".py",
   "mimetype": "text/x-python",
   "name": "python",
   "nbconvert_exporter": "python",
   "pygments_lexer": "ipython3",
   "version": "3.5.2"
  }
 },
 "nbformat": 4,
 "nbformat_minor": 2
}
