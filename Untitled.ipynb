{
 "cells": [
  {
   "cell_type": "code",
   "execution_count": 1,
   "metadata": {},
   "outputs": [
    {
     "name": "stdout",
     "output_type": "stream",
     "text": [
      "Do you work part-time(p/P) or full time(f/F): pf\n",
      "nice\n"
     ]
    }
   ],
   "source": [
    "import re\n",
    "\n",
    "while True:\n",
    "    time = input('Do you work part-time(p/P) or full time(f/F): ')\n",
    "    if re.match('^[PFpf]', time):\n",
    "        print('nice')\n",
    "        break\n",
    "    else:\n",
    "        print('Invalid Input')"
   ]
  },
  {
   "cell_type": "code",
   "execution_count": 2,
   "metadata": {},
   "outputs": [
    {
     "name": "stdout",
     "output_type": "stream",
     "text": [
      "Enter what you want:\n",
      "0. exit\n",
      "1. hot drinks\n",
      "2. cold drinks\n",
      "3. burgers\n",
      "4. hotdogs\n",
      "5. deserts\n",
      "Enter a number: 2\n",
      "welcome\n"
     ]
    }
   ],
   "source": [
    "menu = input(\"Enter what you want:\\n0. exit\\n1. hot drinks\\n2. cold drinks\\n3. burgers\\n4. hotdogs\\n5. deserts\\nEnter a number: \")\n",
    "\n",
    "if re.match('^[1-5]', menu):\n",
    "    print('welcome')\n",
    "elif re.match('^[0]', menu):\n",
    "    print('bye')\n",
    "else:\n",
    "    print('invalid input')"
   ]
  },
  {
   "cell_type": "code",
   "execution_count": 6,
   "metadata": {},
   "outputs": [
    {
     "name": "stdout",
     "output_type": "stream",
     "text": [
      "Enter a value: 1.2\n",
      "welcome\n"
     ]
    }
   ],
   "source": [
    "height = float(input('Enter a value: '))\n",
    "\n",
    "if height >= 0.75 and height <= 1.3:\n",
    "    print('welcome')\n",
    "else:\n",
    "    print('invalid input')"
   ]
  }
 ],
 "metadata": {
  "kernelspec": {
   "display_name": "Python 3",
   "language": "python",
   "name": "python3"
  },
  "language_info": {
   "codemirror_mode": {
    "name": "ipython",
    "version": 3
   },
   "file_extension": ".py",
   "mimetype": "text/x-python",
   "name": "python",
   "nbconvert_exporter": "python",
   "pygments_lexer": "ipython3",
   "version": "3.5.2"
  }
 },
 "nbformat": 4,
 "nbformat_minor": 2
}
