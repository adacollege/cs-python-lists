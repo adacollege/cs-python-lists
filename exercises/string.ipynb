{
 "cells": [
  {
   "cell_type": "markdown",
   "metadata": {},
   "source": [
    "## Functions that Manipulate Strings \n",
    "\n",
    "### Instructions: \n",
    "\n",
    "1] Complete the functions to work as decribed.\n",
    "\n",
    "2] Test your functions with the ASSERTS at the end of this notebook\n",
    "\n",
    "3] Push your code back to your github account\n",
    "\n",
    "4] Generate a pull request to the Ada NCDS github account"
   ]
  },
  {
   "cell_type": "markdown",
   "metadata": {},
   "source": [
    "### EXERCISE 1 | Function reverseWord"
   ]
  },
  {
   "cell_type": "code",
   "execution_count": 12,
   "metadata": {
    "collapsed": true
   },
   "outputs": [
    {
     "name": "stdout",
     "output_type": "stream",
     "text": [
      "tset\n"
     ]
    }
   ],
   "source": [
    "def reverseWord(word):\n",
    "    return word[::-1]\n",
    "\n",
    "print(reverseWord(\"test\"))"
   ]
  },
  {
   "cell_type": "markdown",
   "metadata": {},
   "source": [
    "### EXERCISE 2 | Function countChars"
   ]
  },
  {
   "cell_type": "code",
   "execution_count": 39,
   "metadata": {
    "collapsed": true
   },
   "outputs": [
    {
     "name": "stdout",
     "output_type": "stream",
     "text": [
      "4\n"
     ]
    }
   ],
   "source": [
    "def countChars(word):\n",
    "    return len(word)\n",
    "\n",
    "print(countChars(\"test\"))"
   ]
  },
  {
   "cell_type": "markdown",
   "metadata": {},
   "source": [
    "### EXERCISE 3 | findReplace"
   ]
  },
  {
   "cell_type": "code",
   "execution_count": 49,
   "metadata": {
    "collapsed": true
   },
   "outputs": [
    {
     "name": "stdout",
     "output_type": "stream",
     "text": [
      "t*st\n"
     ]
    }
   ],
   "source": [
    "def findReplace(word, find, replace):\n",
    "    array = []\n",
    "    for char in word:\n",
    "        if (char == find):\n",
    "            array.append(replace)\n",
    "        else:\n",
    "            array.append(char)\n",
    "    return \"\".join(array)\n",
    "\n",
    "print(findReplace(\"test\", \"e\", \"*\"))"
   ]
  },
  {
   "cell_type": "markdown",
   "metadata": {},
   "source": [
    "### EXERCISE 4 | countThisChars"
   ]
  },
  {
   "cell_type": "code",
   "execution_count": 1,
   "metadata": {
    "collapsed": true
   },
   "outputs": [
    {
     "data": {
      "text/plain": [
       "2"
      ]
     },
     "execution_count": 1,
     "metadata": {},
     "output_type": "execute_result"
    }
   ],
   "source": [
    "def char_count(word, char):\n",
    "    count = 0;\n",
    "    for character in word:\n",
    "        if (character == char):\n",
    "            count += 1;\n",
    "    return count\n",
    "\n",
    "char_count(\"test\", \"t\")"
   ]
  },
  {
   "cell_type": "markdown",
   "metadata": {},
   "source": [
    "## Debugging "
   ]
  },
  {
   "cell_type": "code",
   "execution_count": 34,
   "metadata": {},
   "outputs": [],
   "source": [
    "assert reverseWord(\"fred\") == \"derf\", \"ERROR: reverseWord\""
   ]
  },
  {
   "cell_type": "code",
   "execution_count": 41,
   "metadata": {},
   "outputs": [],
   "source": [
    "assert countChars(\"hello\") == 5, \"ERROR: countChars\"\n"
   ]
  },
  {
   "cell_type": "code",
   "execution_count": 52,
   "metadata": {},
   "outputs": [],
   "source": [
    "assert findReplace(\"hello world\", \"o\", \"*\") == \"hell* w*rld\",  \"ERROR: findReplace\"\n"
   ]
  },
  {
   "cell_type": "code",
   "execution_count": 58,
   "metadata": {},
   "outputs": [],
   "source": [
    "assert char_count(\"ada college\", \"b\") == 0, \"ERROR: countThisChar\""
   ]
  }
 ],
 "metadata": {
  "kernelspec": {
   "display_name": "Python 3",
   "language": "python",
   "name": "python3"
  },
  "language_info": {
   "codemirror_mode": {
    "name": "ipython",
    "version": 3
   },
   "file_extension": ".py",
   "mimetype": "text/x-python",
   "name": "python",
   "nbconvert_exporter": "python",
   "pygments_lexer": "ipython3",
   "version": "3.7.1"
  }
 },
 "nbformat": 4,
 "nbformat_minor": 2
}
