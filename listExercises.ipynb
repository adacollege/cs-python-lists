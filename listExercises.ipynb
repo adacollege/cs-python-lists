{
 "cells": [
  {
   "cell_type": "markdown",
   "metadata": {},
   "source": [
    "## List Exercises\n",
    "\n",
    "### Instructions: \n",
    "\n",
    "1) Complete the functions to work as decribed.\n",
    "\n",
    "2) Test your functions with the ASSERTS at the end of this notebook\n",
    "\n",
    "3) Push your code back to your github account\n",
    "\n",
    "4) Generate a pull request to the Ada NCDS github account"
   ]
  },
  {
   "cell_type": "code",
   "execution_count": 1,
   "metadata": {},
   "outputs": [
    {
     "name": "stdout",
     "output_type": "stream",
     "text": [
      "[1, 5, 6, 2, 3, 4, 5]\n",
      "['apple', 'banana', 'grape', 'cinnamon', 'apple', 'eggplant', 'falafel', 'grape', 'grape']\n"
     ]
    }
   ],
   "source": [
    "numList = [1,5,6,2,3,4,5]\n",
    "print(numList)\n",
    "wordList = [\"apple\", \"banana\", \"grape\", \"cinnamon\", \"apple\", \"eggplant\", \"falafel\", \"grape\", \"grape\"]\n",
    "print(wordList)"
   ]
  },
  {
   "cell_type": "markdown",
   "metadata": {},
   "source": [
    "### EXERCISE [1] | powerList\n",
    "\n",
    "powerList([1, 2, 3], 2) -> [1, 4, 9]"
   ]
  },
  {
   "cell_type": "code",
   "execution_count": 6,
   "metadata": {},
   "outputs": [
    {
     "data": {
      "text/plain": [
       "[1, 4, 9]"
      ]
     },
     "execution_count": 6,
     "metadata": {},
     "output_type": "execute_result"
    }
   ],
   "source": [
    "def powerList(list, power):\n",
    "    array = []\n",
    "    for element in list:\n",
    "        array.append(element ** power)\n",
    "    return array\n",
    "\n",
    "powerList([1, 2, 3], 2)"
   ]
  },
  {
   "cell_type": "markdown",
   "metadata": {},
   "source": [
    "### EXERCISE 2: listFindReplace\n",
    "\n",
    "This function finds all the string elements in a list matching \"find\" and replaces them with the string \"replace\"\n"
   ]
  },
  {
   "cell_type": "code",
   "execution_count": 26,
   "metadata": {},
   "outputs": [
    {
     "data": {
      "text/plain": [
       "['world', 'world', 'world']"
      ]
     },
     "execution_count": 26,
     "metadata": {},
     "output_type": "execute_result"
    }
   ],
   "source": [
    "def find_n_replace(list, find, replace):\n",
    "    array = []\n",
    "    for element in list:\n",
    "        if (element == find):\n",
    "            array.append(replace)\n",
    "        else:\n",
    "            array.append(element)\n",
    "    return array\n",
    "\n",
    "words = [\"hello\", \"hello\", \"hello\"]\n",
    "\n",
    "find_n_replace(words, \"hello\", \"world\")"
   ]
  },
  {
   "cell_type": "markdown",
   "metadata": {},
   "source": [
    "## Automated testing\n",
    "\n",
    "Run this code last to automatically test your functions before you push back to your repo and generate the pull request"
   ]
  },
  {
   "cell_type": "code",
   "execution_count": 28,
   "metadata": {},
   "outputs": [],
   "source": [
    "assert powerList([1, 2, 3], 2) == [1, 4, 9], \"ERROR powerList\""
   ]
  },
  {
   "cell_type": "code",
   "execution_count": 29,
   "metadata": {},
   "outputs": [],
   "source": [
    "assert powerList([3, 4, 5], 3) == [27, 64, 125], \"ERROR powerList\""
   ]
  },
  {
   "cell_type": "code",
   "execution_count": 25,
   "metadata": {},
   "outputs": [],
   "source": [
    "assert find_n_replace([\"hello\", \"hello\", \"hello\"], \"hello\", \"world\") == [\"world\", \"world\", \"world\"], \"ERROR: findReplace\""
   ]
  }
 ],
 "metadata": {
  "kernelspec": {
   "display_name": "Python 3",
   "language": "python",
   "name": "python3"
  },
  "language_info": {
   "codemirror_mode": {
    "name": "ipython",
    "version": 3
   },
   "file_extension": ".py",
   "mimetype": "text/x-python",
   "name": "python",
   "nbconvert_exporter": "python",
   "pygments_lexer": "ipython3",
   "version": "3.7.1"
  }
 },
 "nbformat": 4,
 "nbformat_minor": 2
}
